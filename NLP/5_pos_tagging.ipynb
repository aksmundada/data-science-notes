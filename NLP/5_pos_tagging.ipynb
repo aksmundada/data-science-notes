{
 "cells": [
  {
   "cell_type": "markdown",
   "metadata": {},
   "source": [
    "## Parts of Speech (POS) Tagging\n",
    "\n",
    "### 1. **Context**\n",
    "**Parts of Speech (POS) Tagging** is an essential task in Natural Language Processing (NLP) that involves identifying and labeling words in a sentence according to their part of speech, such as noun, verb, adjective, etc. POS tagging provides the grammatical structure of a sentence, which is crucial for many downstream tasks like syntactic parsing, named entity recognition, and information extraction.\n",
    "\n",
    "In this notebook, we will explore how to perform **POS tagging** using the **NLTK (Natural Language Toolkit)** library.\n",
    "\n",
    "---\n",
    "\n",
    "### 2. **Install NLTK**\n",
    "Before we begin, ensure that NLTK is installed on your system:\n",
    "\n",
    "```bash\n",
    "!pip install nltk"
   ]
  },
  {
   "cell_type": "markdown",
   "metadata": {},
   "source": [
    "### 3. Download NLTK Resources\n",
    "We need to download certain resources from NLTK, including the POS tagger and tokenizers:"
   ]
  },
  {
   "cell_type": "code",
   "execution_count": 12,
   "metadata": {},
   "outputs": [
    {
     "name": "stderr",
     "output_type": "stream",
     "text": [
      "[nltk_data] Downloading package punkt_tab to C:\\Users\\IT\n",
      "[nltk_data]     Support\\AppData\\Roaming\\nltk_data...\n",
      "[nltk_data]   Package punkt_tab is already up-to-date!\n",
      "[nltk_data] Downloading package averaged_perceptron_tagger_eng to\n",
      "[nltk_data]     C:\\Users\\IT Support\\AppData\\Roaming\\nltk_data...\n",
      "[nltk_data]   Unzipping taggers\\averaged_perceptron_tagger_eng.zip.\n"
     ]
    },
    {
     "data": {
      "text/plain": [
       "True"
      ]
     },
     "execution_count": 12,
     "metadata": {},
     "output_type": "execute_result"
    }
   ],
   "source": [
    "import nltk\n",
    "nltk.downloader.update()\n",
    "nltk.download('punkt_tab')\n",
    "nltk.download('averaged_perceptron_tagger_eng')"
   ]
  },
  {
   "cell_type": "markdown",
   "metadata": {},
   "source": [
    "### 4. POS Tagging Example\n",
    "Let's start by writing a simple example to perform POS tagging on a sentence."
   ]
  },
  {
   "cell_type": "code",
   "execution_count": 13,
   "metadata": {},
   "outputs": [
    {
     "name": "stdout",
     "output_type": "stream",
     "text": [
      "Tagged Words: [('NLTK', 'NNP'), ('is', 'VBZ'), ('a', 'DT'), ('leading', 'VBG'), ('platform', 'NN'), ('for', 'IN'), ('building', 'VBG'), ('Python', 'NNP'), ('programs', 'NNS'), ('to', 'TO'), ('work', 'VB'), ('with', 'IN'), ('human', 'JJ'), ('language', 'NN'), ('data', 'NNS'), ('.', '.')]\n"
     ]
    }
   ],
   "source": [
    "from nltk.tokenize import word_tokenize\n",
    "from nltk import pos_tag\n",
    "\n",
    "# Example sentence\n",
    "sentence = \"NLTK is a leading platform for building Python programs to work with human language data.\"\n",
    "\n",
    "# Tokenize the sentence\n",
    "words = word_tokenize(sentence)\n",
    "\n",
    "# Perform POS tagging\n",
    "tagged_words = pos_tag(words)\n",
    "\n",
    "print(\"Tagged Words:\", tagged_words)"
   ]
  },
  {
   "cell_type": "markdown",
   "metadata": {},
   "source": [
    "### 5. Explanation of POS Tags\n",
    "The pos_tag function assigns each word a POS tag from the Penn Treebank tagset. Here are some examples of the tags you might see:\n",
    "\n",
    "* NNP: Proper Noun, Singular\n",
    "* VBZ: Verb, 3rd person singular present\n",
    "* DT: Determiner\n",
    "* VBG: Verb, gerund or present participle\n",
    "* IN: Preposition or subordinating conjunction\n",
    "* JJ: Adjective\n",
    "* NNS: Noun, plural\n",
    "Some Common POS Tags:\n",
    "* NN: Noun, singular\n",
    "* VB: Verb, base form\n",
    "* JJ: Adjective\n",
    "* RB: Adverb\n",
    "* PRP: Personal pronoun\n",
    "* DT: Determiner\n"
   ]
  },
  {
   "cell_type": "markdown",
   "metadata": {},
   "source": [
    "### 6. POS Tagging for Larger Texts\n",
    "POS tagging can be applied to larger pieces of text as well. Here's an example for tagging a paragraph."
   ]
  },
  {
   "cell_type": "code",
   "execution_count": 14,
   "metadata": {},
   "outputs": [
    {
     "name": "stdout",
     "output_type": "stream",
     "text": [
      "Tagged Paragraph: [('Natural', 'JJ'), ('Language', 'NNP'), ('Processing', 'NNP'), ('(', '('), ('NLP', 'NNP'), (')', ')'), ('is', 'VBZ'), ('a', 'DT'), ('subfield', 'NN'), ('of', 'IN'), ('artificial', 'JJ'), ('intelligence', 'NN'), ('.', '.'), ('It', 'PRP'), ('focuses', 'VBZ'), ('on', 'IN'), ('the', 'DT'), ('interaction', 'NN'), ('between', 'IN'), ('computers', 'NNS'), ('and', 'CC'), ('human', 'JJ'), ('language', 'NN'), (',', ','), ('and', 'CC'), ('it', 'PRP'), (\"'s\", 'VBZ'), ('used', 'VBN'), ('to', 'TO'), ('process', 'VB'), ('and', 'CC'), ('analyze', 'VB'), ('large', 'JJ'), ('amounts', 'NNS'), ('of', 'IN'), ('natural', 'JJ'), ('language', 'NN'), ('data', 'NNS'), ('.', '.')]\n"
     ]
    }
   ],
   "source": [
    "# Example paragraph\n",
    "paragraph = \"\"\"\n",
    "Natural Language Processing (NLP) is a subfield of artificial intelligence. It focuses on the interaction between \n",
    "computers and human language, and it's used to process and analyze large amounts of natural language data.\n",
    "\"\"\"\n",
    "\n",
    "# Tokenize and POS tag the paragraph\n",
    "words_paragraph = word_tokenize(paragraph)\n",
    "tagged_paragraph = pos_tag(words_paragraph)\n",
    "\n",
    "print(\"Tagged Paragraph:\", tagged_paragraph)"
   ]
  },
  {
   "cell_type": "markdown",
   "metadata": {},
   "source": [
    "### 7. Handling Ambiguities in POS Tagging\n",
    "POS tagging can sometimes be ambiguous, and the same word can have different tags based on context. For example:"
   ]
  },
  {
   "cell_type": "code",
   "execution_count": 15,
   "metadata": {},
   "outputs": [
    {
     "name": "stdout",
     "output_type": "stream",
     "text": [
      "Tagged Ambiguous Sentence: [('The', 'DT'), ('bank', 'NN'), ('is', 'VBZ'), ('next', 'JJ'), ('to', 'TO'), ('the', 'DT'), ('river', 'NN'), ('.', '.')]\n"
     ]
    }
   ],
   "source": [
    "sentence_ambiguous = \"The bank is next to the river.\"\n",
    "words_ambiguous = word_tokenize(sentence_ambiguous)\n",
    "tagged_ambiguous = pos_tag(words_ambiguous)\n",
    "\n",
    "print(\"Tagged Ambiguous Sentence:\", tagged_ambiguous)"
   ]
  },
  {
   "cell_type": "markdown",
   "metadata": {},
   "source": [
    "Here, the word \"bank\" is tagged as a noun (NN). However, depending on the context, it could also refer to a financial institution, requiring different tagging. In such cases, contextual POS tagging or a more advanced model can be used to resolve ambiguity."
   ]
  },
  {
   "cell_type": "markdown",
   "metadata": {},
   "source": [
    "### 8. Conclusion\n",
    "\n",
    "POS tagging is a fundamental task in text processing that helps in understanding the syntactic structure of a sentence. The NLTK library makes it easy to perform POS tagging with a simple API. By labeling words with their respective parts of speech, we can perform more advanced NLP tasks like syntactic parsing and information extraction.\n",
    "\n",
    "#### Key Takeaways:\n",
    "- **POS Tagging** is used to identify the grammatical structure of sentences.\n",
    "- The **Penn Treebank tagset** is commonly used for tagging words.\n",
    "- **POS tagging** can help in resolving ambiguities and improving NLP models.\n",
    "\n",
    "---\n",
    "\n",
    "### 9. Further Enhancements\n",
    "\n",
    "While NLTK provides an easy-to-use POS tagging tool, there are other advanced methods for improving tagging accuracy:\n",
    "\n",
    "- **Contextual POS Tagging**: Use models like **spaCy** or **BERT** that consider word context for better tagging accuracy.\n",
    "- **Custom Tagging**: Train custom POS taggers for specialized domains or languages.\n",
    "- **Rule-based Tagging**: Combine POS tagging with rules to handle ambiguities more effectively."
   ]
  }
 ],
 "metadata": {
  "kernelspec": {
   "display_name": "Python 3",
   "language": "python",
   "name": "python3"
  },
  "language_info": {
   "codemirror_mode": {
    "name": "ipython",
    "version": 3
   },
   "file_extension": ".py",
   "mimetype": "text/x-python",
   "name": "python",
   "nbconvert_exporter": "python",
   "pygments_lexer": "ipython3",
   "version": "3.11.2"
  }
 },
 "nbformat": 4,
 "nbformat_minor": 2
}

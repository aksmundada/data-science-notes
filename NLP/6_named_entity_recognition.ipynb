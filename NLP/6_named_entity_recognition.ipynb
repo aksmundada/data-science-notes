{
 "cells": [
  {
   "cell_type": "markdown",
   "metadata": {},
   "source": [
    "## Named Entity Recognition (NER) with spaCy\n",
    "\n",
    "### 1. **Context**\n",
    "**Named Entity Recognition (NER)** is a core task in Natural Language Processing (NLP) that focuses on identifying and classifying entities such as names of people, organizations, locations, dates, monetary values, and other specific terms in text. NER helps in understanding and extracting meaningful information from unstructured text, making it an essential step for many NLP applications such as information extraction, question answering, and summarization.\n",
    "\n",
    "In this notebook, we will explore **Named Entity Recognition (NER)** using the **spaCy** library, a powerful NLP toolkit.\n",
    "\n",
    "---\n",
    "\n",
    "### 2. **Install spaCy**\n",
    "Before starting, make sure spaCy is installed on your system. You can install it using the following command:\n",
    "\n",
    "```bash\n",
    "!pip install spacy"
   ]
  },
  {
   "cell_type": "markdown",
   "metadata": {},
   "source": [
    "### 3. Load spaCy and the Language Model\n",
    "Once spaCy is installed and the model is downloaded, let's load the language model."
   ]
  },
  {
   "cell_type": "code",
   "execution_count": 2,
   "metadata": {},
   "outputs": [],
   "source": [
    "import spacy\n",
    "\n",
    "# Load the English language model\n",
    "nlp = spacy.load('en_core_web_sm')"
   ]
  },
  {
   "cell_type": "markdown",
   "metadata": {},
   "source": [
    "### 4. NER Example\n",
    "Let's take a simple example to perform Named Entity Recognition on a sentence."
   ]
  },
  {
   "cell_type": "code",
   "execution_count": 3,
   "metadata": {},
   "outputs": [
    {
     "name": "stdout",
     "output_type": "stream",
     "text": [
      "Named Entities: [('Apple', 'ORG'), ('San Francisco', 'GPE'), ('$1 billion', 'MONEY')]\n"
     ]
    }
   ],
   "source": [
    "# Example sentence\n",
    "sentence = \"Apple is looking to buy a startup based in San Francisco for $1 billion.\"\n",
    "\n",
    "# Process the text through spaCy\n",
    "doc = nlp(sentence)\n",
    "\n",
    "# Extract named entities from the processed document\n",
    "entities = [(entity.text, entity.label_) for entity in doc.ents]\n",
    "\n",
    "print(\"Named Entities:\", entities)"
   ]
  },
  {
   "cell_type": "markdown",
   "metadata": {},
   "source": [
    "In the above example:\n",
    "\n",
    "* **Apple** is recognized as an organization (ORG).\n",
    "* **San Francisco** is recognized as a geopolitical entity (GPE).\n",
    "* **$1 billion** is recognized as money (MONEY)."
   ]
  },
  {
   "cell_type": "markdown",
   "metadata": {},
   "source": [
    "### 5. Explanation of NER Output\n",
    "\n",
    "Each entity in the output consists of:\n",
    "\n",
    "- **Text**: The entity itself (e.g., \"Apple\", \"San Francisco\").\n",
    "- **Label**: The type of entity, such as:\n",
    "  - **ORG**: Organization\n",
    "  - **GPE**: Geopolitical entity (e.g., countries, cities)\n",
    "  - **MONEY**: Monetary values\n",
    "  - **PERSON**: Names of people\n",
    "  - **DATE**: Dates and time expressions\n",
    "\n",
    "For a complete list of NER labels, you can refer to [spaCy’s documentation](https://spacy.io/usage/linguistic-features#named-entities).\n"
   ]
  },
  {
   "cell_type": "markdown",
   "metadata": {},
   "source": [
    "### 6. NER on Larger Text\n",
    "NER can be applied to larger texts as well. Here’s how you can process paragraphs of text."
   ]
  },
  {
   "cell_type": "code",
   "execution_count": 6,
   "metadata": {},
   "outputs": [
    {
     "name": "stdout",
     "output_type": "stream",
     "text": [
      "Named Entities in Paragraph: [('Barack Obama', 'PERSON'), ('August 4, 1961', 'DATE'), ('Honolulu', 'GPE'), ('Hawaii', 'GPE'), ('44th', 'ORDINAL'), ('the United States', 'GPE'), ('2008', 'DATE')]\n"
     ]
    }
   ],
   "source": [
    "# Example paragraph\n",
    "paragraph = \"\"\"\n",
    "Barack Obama was born on August 4, 1961, in Honolulu, Hawaii. He was elected as the 44th President of the United States in 2008.\n",
    "\"\"\"\n",
    "\n",
    "# Process the paragraph through spaCy\n",
    "doc_paragraph = nlp(paragraph)\n",
    "\n",
    "# Extract named entities\n",
    "entities_paragraph = [(entity.text, entity.label_) for entity in doc_paragraph.ents]\n",
    "\n",
    "print(\"Named Entities in Paragraph:\", entities_paragraph)"
   ]
  },
  {
   "cell_type": "markdown",
   "metadata": {},
   "source": [
    "### 7. Customizing NER (Training a Custom NER Model)\n",
    "\n",
    "spaCy allows you to train a custom NER model for identifying specific types of entities that are not covered by the pre-trained model. Here's a high-level overview of how to add custom entities:\n",
    "\n",
    "1. **Collect and Annotate Training Data**: Prepare a dataset with annotated examples of your custom entities.\n",
    "2. **Train the NER Component**: Use the annotated data to train the NER component.\n",
    "\n",
    "This process involves:\n",
    "- Setting up a **blank model**.\n",
    "- Annotating the data for your specific entities.\n",
    "- Using spaCy’s **training API** to create a custom model.\n",
    "\n",
    "> Note: Training a custom NER model is an advanced process that requires a deeper understanding of spaCy and access to well-annotated data.\n"
   ]
  },
  {
   "cell_type": "markdown",
   "metadata": {},
   "source": [
    "### 8. NER for Multiple Languages\n",
    "spaCy supports NER for multiple languages. You can load different language models based on the language of your input text. For example, to use the French model, you would download and load it like this:"
   ]
  },
  {
   "cell_type": "code",
   "execution_count": 9,
   "metadata": {},
   "outputs": [],
   "source": [
    "%%capture\n",
    "!python -m spacy download fr_core_news_sm"
   ]
  },
  {
   "cell_type": "code",
   "execution_count": 8,
   "metadata": {},
   "outputs": [
    {
     "name": "stdout",
     "output_type": "stream",
     "text": [
      "French Named Entities: [('Emmanuel Macron', 'PER'), ('la France', 'LOC')]\n"
     ]
    }
   ],
   "source": [
    "# Load French language model\n",
    "nlp_fr = spacy.load('fr_core_news_sm')\n",
    "\n",
    "# Process a French sentence\n",
    "sentence_fr = \"Emmanuel Macron est le président de la France.\"\n",
    "doc_fr = nlp_fr(sentence_fr)\n",
    "\n",
    "# Extract named entities\n",
    "entities_fr = [(entity.text, entity.label_) for entity in doc_fr.ents]\n",
    "print(\"French Named Entities:\", entities_fr)"
   ]
  },
  {
   "cell_type": "markdown",
   "metadata": {},
   "source": [
    "### 9. Conclusion\n",
    "\n",
    "Named Entity Recognition (NER) is a powerful tool for extracting useful information from text. By identifying entities like names of people, organizations, locations, dates, and more, NER helps in understanding the content of unstructured data. **spaCy** provides an easy-to-use API for performing NER, supports various languages, and can be customized for specific use cases.\n",
    "\n",
    "#### Key Takeaways:\n",
    "- **NER** helps identify and classify important entities in text.\n",
    "- **spaCy** offers pre-trained models for English and several other languages.\n",
    "- **Custom models** can be trained for domain-specific entities if required.\n",
    "\n",
    "---\n",
    "\n",
    "### 10. Further Enhancements\n",
    "\n",
    "While spaCy’s pre-trained NER models are highly accurate, there are other ways to enhance NER:\n",
    "\n",
    "1. **Domain-specific NER**: Train custom NER models to recognize entities relevant to specific industries (e.g., healthcare, finance).\n",
    "2. **Deep Learning Approaches**: Use models like **BERT** and other transformer-based models to improve NER accuracy.\n",
    "3. **NER with Context**: Consider using context to disambiguate entities that could have multiple meanings (e.g., \"bank\" as a financial institution vs. \"bank\" as a riverbank).\n"
   ]
  }
 ],
 "metadata": {
  "kernelspec": {
   "display_name": "Python 3",
   "language": "python",
   "name": "python3"
  },
  "language_info": {
   "codemirror_mode": {
    "name": "ipython",
    "version": 3
   },
   "file_extension": ".py",
   "mimetype": "text/x-python",
   "name": "python",
   "nbconvert_exporter": "python",
   "pygments_lexer": "ipython3",
   "version": "3.11.2"
  }
 },
 "nbformat": 4,
 "nbformat_minor": 2
}

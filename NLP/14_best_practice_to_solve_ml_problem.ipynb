{
 "cells": [
  {
   "cell_type": "markdown",
   "metadata": {},
   "source": [
    "The **incorrect** version of the steps places the **Train-Test Split** after the Bag of Words (BoW) and TF-IDF transformation, which can lead to **data leakage**.  \n",
    "\n",
    "### ❌ **Incorrect Order:**\n",
    "BOW, TF-IDF, Machine Learning Algorithms\n",
    "- Preprocessing And Cleaning\n",
    "- BOW And TF-IDF (Sentences ---> Vectors)\n",
    "- Train Test Split\n",
    "- Trained Our Models\n",
    "\n",
    "**Why is this wrong?**  \n",
    "- If we **apply BoW or TF-IDF before splitting the data**, the entire dataset is used to generate word frequencies.  \n",
    "- This causes the **test set** to have information from the training set, which **leaks future data** into the model.  \n",
    "- The test data should **remain unseen** until the final evaluation.  \n",
    "\n",
    "---\n",
    "\n",
    "### ✅ **Correct Order:**\n",
    "BOW, TF-IDF, Machine Learning Algorithms\n",
    "- Preprocessing And Cleaning\n",
    "- Train Test Split\n",
    "- BOW And TF-IDF (Sentences ---> Vectors) {Preventing Data Leakage}\n",
    "- Trained Our Models\n",
    "\n",
    "**Why is this correct?**  \n",
    "- First, **preprocess** and **clean** the text.  \n",
    "- **Split** the dataset into **train and test** sets.  \n",
    "- **Apply BoW or TF-IDF separately on the train and test sets** to avoid data leakage.  \n",
    "- Train and evaluate the models properly without any test data influencing the training phase.  \n",
    "\n",
    "### 🔥 **Key Takeaway:**  \n",
    "Always **split the data first**, then transform it into vectors. This ensures that your model generalizes well to unseen data! \n"
   ]
  }
 ],
 "metadata": {
  "language_info": {
   "name": "python"
  }
 },
 "nbformat": 4,
 "nbformat_minor": 2
}

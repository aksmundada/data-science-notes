{
 "cells": [
  {
   "cell_type": "markdown",
   "metadata": {},
   "source": [
    "# Stemming and Its Types - Text Preprocessing\n",
    "\n",
    "## Introduction to Stemming\n",
    "\n",
    "Stemming is a process in Natural Language Processing (NLP) where words are reduced to their base or root form. The primary goal of stemming is to ensure that words with the same meaning are treated as a single item. \n",
    "\n",
    "For example:\n",
    "- \"running\" → \"run\"\n",
    "- \"better\" → \"good\"\n",
    "- \"playing\" → \"play\"\n",
    "\n",
    "Stemming is often used in information retrieval, text classification, and other NLP tasks where reducing variations of words helps improve model performance.\n",
    "\n",
    "## Types of Stemming\n",
    "\n",
    "There are several types of stemming algorithms, each with different levels of complexity and approaches. The most commonly used stemming algorithms are:\n",
    "\n",
    "1. **Porter Stemmer**\n",
    "2. **Lancaster Stemmer**\n",
    "3. **Snowball Stemmer**\n",
    "4. **RegexpStemmer**\n",
    "\n",
    "Let’s go over these one by one.\n",
    "\n",
    "### 1. Porter Stemmer\n",
    "\n",
    "The Porter Stemmer algorithm is one of the most widely used stemming techniques. It works by applying a set of rules to remove suffixes from words. While it’s efficient, it can be aggressive and sometimes removes more than necessary.\n",
    "\n",
    "#### Example:"
   ]
  },
  {
   "cell_type": "code",
   "execution_count": 1,
   "metadata": {},
   "outputs": [
    {
     "name": "stdout",
     "output_type": "stream",
     "text": [
      "['run', 'runner', 'run', 'easili']\n"
     ]
    }
   ],
   "source": [
    "from nltk.stem import PorterStemmer\n",
    "\n",
    "porter_stemmer = PorterStemmer()\n",
    "\n",
    "words = [\"running\", \"runner\", \"runs\", \"easily\"]\n",
    "stemmed_words = [porter_stemmer.stem(word) for word in words]\n",
    "\n",
    "print(stemmed_words)"
   ]
  },
  {
   "cell_type": "markdown",
   "metadata": {},
   "source": [
    "### 2. Snowball Stemmer\n",
    "The Snowball Stemmer, also known as the \"English Stemmer,\" is an improvement over the Porter Stemmer. It is more consistent and handles a wider range of words without being too aggressive."
   ]
  },
  {
   "cell_type": "code",
   "execution_count": 3,
   "metadata": {},
   "outputs": [
    {
     "name": "stdout",
     "output_type": "stream",
     "text": [
      "['run', 'runner', 'run', 'easili']\n"
     ]
    }
   ],
   "source": [
    "from nltk.stem import SnowballStemmer\n",
    "\n",
    "snowball_stemmer = SnowballStemmer(\"english\")\n",
    "\n",
    "words = [\"running\", \"runner\", \"runs\", \"easily\"]\n",
    "stemmed_words = [snowball_stemmer.stem(word) for word in words]\n",
    "\n",
    "print(stemmed_words)"
   ]
  },
  {
   "cell_type": "markdown",
   "metadata": {},
   "source": [
    "### 3. Lancaster Stemmer\n",
    "The Lancaster Stemmer is a more aggressive stemming technique compared to the Porter Stemmer. It uses a more extensive set of rules, often leading to a more shortened form of words."
   ]
  },
  {
   "cell_type": "code",
   "execution_count": 2,
   "metadata": {},
   "outputs": [
    {
     "name": "stdout",
     "output_type": "stream",
     "text": [
      "['run', 'run', 'run', 'easy']\n"
     ]
    }
   ],
   "source": [
    "from nltk.stem import LancasterStemmer\n",
    "\n",
    "lancaster_stemmer = LancasterStemmer()\n",
    "\n",
    "words = [\"running\", \"runner\", \"runs\", \"easily\"]\n",
    "stemmed_words = [lancaster_stemmer.stem(word) for word in words]\n",
    "\n",
    "print(stemmed_words)\n"
   ]
  },
  {
   "cell_type": "markdown",
   "metadata": {},
   "source": [
    "### 4. RegexpStemmer\n",
    "The RegexpStemmer class uses regular expressions (regex) to identify and remove suffixes from words. This stemmer allows for custom rules to be defined, providing more flexibility compared to standard stemmers.\n",
    "\n",
    "#### How it Works\n",
    "The RegexpStemmer works by applying regular expression patterns to match suffixes and then removing them from the input word.\n",
    "\n",
    "#### Example:"
   ]
  },
  {
   "cell_type": "code",
   "execution_count": 7,
   "metadata": {},
   "outputs": [
    {
     "name": "stdout",
     "output_type": "stream",
     "text": [
      "['runn', 'runn', 'runs', 'easi']\n"
     ]
    }
   ],
   "source": [
    "from nltk.stem import RegexpStemmer\n",
    "\n",
    "# Define a combined pattern for stemming\n",
    "pattern = r'(?i)(ing|er|ly)$'\n",
    "\n",
    "# Create a RegexpStemmer object with the pattern\n",
    "regexp_stemmer = RegexpStemmer(pattern)\n",
    "\n",
    "# Words to stem\n",
    "words = [\"running\", \"runner\", \"runs\", \"easily\"]\n",
    "\n",
    "# Apply stemming\n",
    "stemmed_words = [regexp_stemmer.stem(word) for word in words]\n",
    "\n",
    "print(stemmed_words)"
   ]
  },
  {
   "cell_type": "markdown",
   "metadata": {},
   "source": [
    "### Conclusion\n",
    "Stemming is an essential part of text preprocessing in NLP. The choice of stemming algorithm depends on the task at hand. Here's a summary of the stemmers discussed:\n",
    "\n",
    "1. **Porter Stemmer**: Widely used and efficient but may be too aggressive.\n",
    "2. **Snowball Stemmer**: A balance between precision and recall, often preferred for general use.\n",
    "3. **Lancaster Stemmer**: More aggressive than the Porter Stemmer and produces even shorter stems.\n",
    "4. **RegexpStemmer**: Highly customizable, allowing you to define your own rules using regular expressions."
   ]
  },
  {
   "cell_type": "markdown",
   "metadata": {},
   "source": [
    "### Shortcomings:\n",
    "   - **Over-Stemming**: It can result in words being reduced to a stem that doesn't make sense (e.g., \"better\" becomes \"bet\").\n",
    "   - **Loss of Meaning**: Stemming removes derivational affixes (e.g., \"running\" → \"run\"), sometimes losing important nuances in word meanings.\n",
    "   - **Irregular Words**: Words that don’t follow regular stemming rules may be incorrectly stemmed (e.g., \"goose\" becomes \"goos\")."
   ]
  }
 ],
 "metadata": {
  "kernelspec": {
   "display_name": "Python 3",
   "language": "python",
   "name": "python3"
  },
  "language_info": {
   "codemirror_mode": {
    "name": "ipython",
    "version": 3
   },
   "file_extension": ".py",
   "mimetype": "text/x-python",
   "name": "python",
   "nbconvert_exporter": "python",
   "pygments_lexer": "ipython3",
   "version": "3.11.2"
  }
 },
 "nbformat": 4,
 "nbformat_minor": 2
}

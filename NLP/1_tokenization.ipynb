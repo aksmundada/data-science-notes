{
 "cells": [
  {
   "cell_type": "markdown",
   "metadata": {},
   "source": [
    "Tokenization in Natural Language Processing (NLP)\n",
    "---\n",
    "This notebook will guide you through the concept of tokenization in NLP, its importance, and how it works with examples using Python.\n",
    "\n",
    "## What is Tokenization?\n",
    "Tokenization is the process of breaking down a text into smaller components called tokens. Tokens can be words, characters, or subwords, depending on the level of tokenization applied.\n",
    " \n",
    "### Why is Tokenization Important?\n",
    "1. **Foundation for NLP Tasks**: Most NLP tasks, such as text classification, machine translation, and sentiment analysis, require tokenized input.\n",
    "2. **Text Normalization**: Tokenization simplifies the representation of text data, making it easier for algorithms to process and analyze.\n",
    "3. **Handling Ambiguity**: Tokenization can help in distinguishing between words and subwords, ensuring accurate text processing.\n",
    "\n",
    "## Types of Tokenization\n",
    "1. **Word Tokenization**: Splits text into individual words.\n",
    "2. **Character Tokenization**: Splits text into individual characters.\n",
    "3. **Subword Tokenization**: Splits text into smaller meaningful units, often used in modern NLP models like BERT.\n"
   ]
  },
  {
   "cell_type": "code",
   "execution_count": 37,
   "metadata": {},
   "outputs": [],
   "source": [
    "%%capture\n",
    "!pip install nltk transformers"
   ]
  },
  {
   "cell_type": "markdown",
   "metadata": {},
   "source": [
    "## Let's Explore Each Type of Tokenization\n",
    "\n",
    "### 1. Word Tokenization\n"
   ]
  },
  {
   "cell_type": "code",
   "execution_count": 45,
   "metadata": {},
   "outputs": [
    {
     "name": "stdout",
     "output_type": "stream",
     "text": [
      "Original Text: Hello! How are you doing today? Let's understand tokenization.\n",
      "Word Tokens: ['Hello!', 'How', 'are', 'you', 'doing', 'today?', \"Let's\", 'understand', 'tokenization.']\n"
     ]
    }
   ],
   "source": [
    "# Sample text\n",
    "text = \"Hello! How are you doing today? Let's understand tokenization.\"\n",
    "\n",
    "print(\"Original Text:\", text)\n",
    "\n",
    "# Splitting by whitespace (basic word tokenization)\n",
    "word_tokens = text.split()\n",
    "print(\"Word Tokens:\", word_tokens)"
   ]
  },
  {
   "cell_type": "markdown",
   "metadata": {},
   "source": [
    "### Using NLTK for Word Tokenization"
   ]
  },
  {
   "cell_type": "code",
   "execution_count": 46,
   "metadata": {},
   "outputs": [
    {
     "name": "stderr",
     "output_type": "stream",
     "text": [
      "[nltk_data] Downloading package punkt_tab to C:\\Users\\IT\n",
      "[nltk_data]     Support\\AppData\\Roaming\\nltk_data...\n",
      "[nltk_data]   Package punkt_tab is already up-to-date!\n"
     ]
    },
    {
     "data": {
      "text/plain": [
       "True"
      ]
     },
     "execution_count": 46,
     "metadata": {},
     "output_type": "execute_result"
    }
   ],
   "source": [
    "import nltk\n",
    "from nltk.tokenize import (word_tokenize, \n",
    "                           TreebankWordTokenizer, \n",
    "                           WordPunctTokenizer, \n",
    "                           WhitespaceTokenizer)\n",
    "\n",
    "# Download required NLTK data\n",
    "nltk.download('punkt_tab')"
   ]
  },
  {
   "cell_type": "code",
   "execution_count": 47,
   "metadata": {},
   "outputs": [
    {
     "name": "stdout",
     "output_type": "stream",
     "text": [
      "Word Tokenize: ['Hello', '!', 'How', 'are', 'you', 'doing', 'today', '?', 'Let', \"'s\", 'understand', 'tokenization', '.']\n",
      "TreebankWordTokenizer: ['Hello', '!', 'How', 'are', 'you', 'doing', 'today', '?', 'Let', \"'s\", 'understand', 'tokenization', '.']\n",
      "WordPunctTokenizer: ['Hello', '!', 'How', 'are', 'you', 'doing', 'today', '?', 'Let', \"'\", 's', 'understand', 'tokenization', '.']\n",
      "WhitespaceTokenizer: ['Hello!', 'How', 'are', 'you', 'doing', 'today?', \"Let's\", 'understand', 'tokenization.']\n"
     ]
    }
   ],
   "source": [
    "# Word Tokenize\n",
    "# The `word_tokenize` function uses the Punkt tokenizer to split text into words and punctuation. It is versatile and handles contractions well.\n",
    "print(\"Word Tokenize:\", word_tokenize(text))\n",
    "\n",
    "# TreebankWordTokenizer\n",
    "# The `TreebankWordTokenizer` splits text based on the Penn Treebank conventions, which are widely used for linguistic processing.\n",
    "treebank_tokenizer = TreebankWordTokenizer()\n",
    "print(\"TreebankWordTokenizer:\", treebank_tokenizer.tokenize(text))\n",
    "\n",
    "# WordPunctTokenizer\n",
    "# The `WordPunctTokenizer` splits words and punctuation separately, treating each punctuation mark as a distinct token.\n",
    "word_punct_tokenizer = WordPunctTokenizer()\n",
    "print(\"WordPunctTokenizer:\", word_punct_tokenizer.tokenize(text))\n",
    "\n",
    "# WhitespaceTokenizer\n",
    "# The `WhitespaceTokenizer` splits text into tokens based solely on whitespace, without considering punctuation or sentence structure.\n",
    "whitespace_tokenizer = WhitespaceTokenizer()\n",
    "print(\"WhitespaceTokenizer:\", whitespace_tokenizer.tokenize(text))"
   ]
  },
  {
   "cell_type": "markdown",
   "metadata": {},
   "source": [
    "### 2. Character Tokenization"
   ]
  },
  {
   "cell_type": "code",
   "execution_count": 48,
   "metadata": {},
   "outputs": [
    {
     "name": "stdout",
     "output_type": "stream",
     "text": [
      "Character Tokens: ['H', 'e', 'l', 'l', 'o', '!', ' ', 'H', 'o', 'w', ' ', 'a', 'r', 'e', ' ', 'y', 'o', 'u', ' ', 'd', 'o', 'i', 'n', 'g', ' ', 't', 'o', 'd', 'a', 'y', '?', ' ', 'L', 'e', 't', \"'\", 's', ' ', 'u', 'n', 'd', 'e', 'r', 's', 't', 'a', 'n', 'd', ' ', 't', 'o', 'k', 'e', 'n', 'i', 'z', 'a', 't', 'i', 'o', 'n', '.']\n"
     ]
    }
   ],
   "source": [
    "# Splitting text into characters\n",
    "char_tokens = list(text)\n",
    "print(\"Character Tokens:\", char_tokens)"
   ]
  },
  {
   "cell_type": "markdown",
   "metadata": {},
   "source": [
    "### 3. Subword Tokenization\n",
    "Subword tokenization is commonly used in transformer-based models like BERT. Libraries such as `SentencePiece` and `Byte Pair Encoding (BPE)` are used for this purpose.\n"
   ]
  },
  {
   "cell_type": "code",
   "execution_count": 49,
   "metadata": {},
   "outputs": [
    {
     "name": "stdout",
     "output_type": "stream",
     "text": [
      "Subword Tokens (BERT): ['hello', '!', 'how', 'are', 'you', 'doing', 'today', '?', 'let', \"'\", 's', 'understand', 'token', '##ization', '.']\n"
     ]
    }
   ],
   "source": [
    "# Example using Hugging Face's Tokenizers library\n",
    "from transformers import AutoTokenizer\n",
    "\n",
    "# Using a pre-trained tokenizer\n",
    "bert_tokenizer = AutoTokenizer.from_pretrained(\"bert-base-uncased\")\n",
    "\n",
    "# Tokenizing the text\n",
    "bert_tokens = bert_tokenizer.tokenize(text)\n",
    "print(\"Subword Tokens (BERT):\", bert_tokens)"
   ]
  },
  {
   "cell_type": "markdown",
   "metadata": {},
   "source": [
    "## Hands-On Example"
   ]
  },
  {
   "cell_type": "code",
   "execution_count": 50,
   "metadata": {},
   "outputs": [
    {
     "name": "stdout",
     "output_type": "stream",
     "text": [
      "\n",
      "Original Text: Natural Language Processing enables computers to understand human language.\n",
      "Word Tokens (split): ['Natural', 'Language', 'Processing', 'enables', 'computers', 'to', 'understand', 'human', 'language.']\n",
      "Word Tokens (NLTK): ['Natural', 'Language', 'Processing', 'enables', 'computers', 'to', 'understand', 'human', 'language', '.']\n",
      "Character Tokens: ['N', 'a', 't', 'u', 'r', 'a', 'l', ' ', 'L', 'a', 'n', 'g', 'u', 'a', 'g', 'e', ' ', 'P', 'r', 'o', 'c', 'e', 's', 's', 'i', 'n', 'g', ' ', 'e', 'n', 'a', 'b', 'l', 'e', 's', ' ', 'c', 'o', 'm', 'p', 'u', 't', 'e', 'r', 's', ' ', 't', 'o', ' ', 'u', 'n', 'd', 'e', 'r', 's', 't', 'a', 'n', 'd', ' ', 'h', 'u', 'm', 'a', 'n', ' ', 'l', 'a', 'n', 'g', 'u', 'a', 'g', 'e', '.']\n",
      "Subword Tokens (BERT): ['natural', 'language', 'processing', 'enables', 'computers', 'to', 'understand', 'human', 'language', '.']\n"
     ]
    }
   ],
   "source": [
    "# Tokenizing a new text example:\n",
    "exercise_text = \"Natural Language Processing enables computers to understand human language.\"\n",
    "\n",
    "print(\"\\nOriginal Text:\", exercise_text)\n",
    "\n",
    "# Word Tokenization using split\n",
    "exercise_word_tokens_split = exercise_text.split()\n",
    "print(\"Word Tokens (split):\", exercise_word_tokens_split)\n",
    "\n",
    "# Word Tokenization using NLTK\n",
    "exercise_word_tokens_nltk = word_tokenize(exercise_text)\n",
    "print(\"Word Tokens (NLTK):\", exercise_word_tokens_nltk)\n",
    "\n",
    "# Character Tokenization\n",
    "exercise_char_tokens = list(exercise_text)\n",
    "print(\"Character Tokens:\", exercise_char_tokens)\n",
    "\n",
    "# Subword Tokenization using BERT tokenizer\n",
    "exercise_subword_tokens = bert_tokenizer.tokenize(exercise_text)\n",
    "print(\"Subword Tokens (BERT):\", exercise_subword_tokens)"
   ]
  },
  {
   "cell_type": "markdown",
   "metadata": {},
   "source": [
    "### Shortcomings:\n",
    "   - **Ambiguity**: Tokenization can struggle with ambiguous cases, like contractions (e.g., \"I’m\" → \"I\" and \"am\" or \"I’m\" → \"I’m\"), and punctuation (e.g., \"U.S.\" could be split incorrectly).\n",
    "   - **Complexity in Languages**: Some languages, especially those without spaces between words (e.g., Chinese), pose challenges for tokenization.\n",
    "   - **Loss of Context**: Tokenization may separate words that form important contextual relationships (e.g., \"New York\" might be split into \"New\" and \"York\").\n"
   ]
  }
 ],
 "metadata": {
  "kernelspec": {
   "display_name": "Python 3",
   "language": "python",
   "name": "python3"
  },
  "language_info": {
   "codemirror_mode": {
    "name": "ipython",
    "version": 3
   },
   "file_extension": ".py",
   "mimetype": "text/x-python",
   "name": "python",
   "nbconvert_exporter": "python",
   "pygments_lexer": "ipython3",
   "version": "3.11.2"
  }
 },
 "nbformat": 4,
 "nbformat_minor": 2
}

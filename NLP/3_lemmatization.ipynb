{
 "cells": [
  {
   "cell_type": "markdown",
   "metadata": {},
   "source": [
    "# Lemmatization in Text Processing\n",
    "\n",
    "### 1. **Context**\n",
    "Lemmatization is a text preprocessing technique in Natural Language Processing (NLP) that involves reducing words to their base or root form, known as a **lemma**. Unlike stemming, which can produce incomplete or non-existent words, lemmatization ensures that the root form is a valid word in the language.\n",
    "\n",
    "Lemmatization depends on vocabulary and rules, and it is typically more computationally expensive than stemming. It considers the context of the word to determine the correct base form, which makes it particularly useful in tasks requiring higher accuracy, such as information retrieval, sentiment analysis, and machine translation.\n",
    "\n",
    "---\n",
    "\n",
    "### 2. **Examples**\n",
    "Here are some examples to demonstrate how lemmatization works:\n",
    "\n",
    "- **\"running\" → \"run\"**  \n",
    "  The word \"running\" is a present participle and is reduced to its base verb \"run.\"\n",
    "\n",
    "- **\"better\" → \"good\"**  \n",
    "  \"Better\" is a comparative adjective, and lemmatization converts it to the adjective \"good.\"\n",
    "\n",
    "- **\"feet\" → \"foot\"**  \n",
    "  \"Feet\" is the plural form of \"foot,\" and lemmatization converts it to its singular form.\n",
    "\n",
    "- **\"children\" → \"child\"**  \n",
    "  The plural form \"children\" is reduced to its base form \"child.\"\n",
    "\n",
    "- **\"flies\" → \"fly\"**  \n",
    "  The plural form of \"fly\" is lemmatized to \"fly.\"\n",
    "\n",
    "These examples show how lemmatization can preserve the meaning of a word while reducing it to its correct root form.\n",
    "\n",
    "---"
   ]
  },
  {
   "cell_type": "markdown",
   "metadata": {},
   "source": [
    "### Download spaCy’s English model"
   ]
  },
  {
   "cell_type": "code",
   "execution_count": 3,
   "metadata": {},
   "outputs": [],
   "source": [
    "%%capture\n",
    "!pip install spacy\n",
    "!python -m spacy download en_core_web_sm"
   ]
  },
  {
   "cell_type": "markdown",
   "metadata": {},
   "source": [
    "### Python Code for Lemmatization"
   ]
  },
  {
   "cell_type": "code",
   "execution_count": 4,
   "metadata": {},
   "outputs": [
    {
     "name": "stdout",
     "output_type": "stream",
     "text": [
      "Original: running --> Lemmatized: run\n",
      "Original: better --> Lemmatized: well\n",
      "Original: feet --> Lemmatized: foot\n",
      "Original: children --> Lemmatized: child\n",
      "Original: flies --> Lemmatized: fly\n"
     ]
    }
   ],
   "source": [
    "import spacy\n",
    "\n",
    "# Load the English model\n",
    "nlp = spacy.load(\"en_core_web_sm\")\n",
    "\n",
    "# Define a list of words for lemmatization\n",
    "words = [\"running\", \"better\", \"feet\", \"children\", \"flies\"]\n",
    "\n",
    "# Process the words using spaCy\n",
    "doc = nlp(\" \".join(words))\n",
    "\n",
    "# Print the lemmatized version of each word\n",
    "for token in doc:\n",
    "    print(f\"Original: {token.text} --> Lemmatized: {token.lemma_}\")"
   ]
  },
  {
   "cell_type": "markdown",
   "metadata": {},
   "source": [
    "### Explanation:\n",
    "* The code uses the spaCy library to process the text and then apply lemmatization.\n",
    "* Each word is processed and its lemma (base form) is extracted using the lemma_ attribute.\n",
    "* This approach handles different forms of words like plurals, verb tenses, and comparatives by converting them to their appropriate base forms."
   ]
  },
  {
   "cell_type": "markdown",
   "metadata": {},
   "source": [
    "\n",
    "### 3. **Conclusion**\n",
    "Lemmatization is an important technique for improving the quality of text processing in NLP. By converting words to their proper root forms, it allows models to handle variations of words more effectively. Unlike stemming, which can create non-meaningful words, lemmatization ensures that the transformed word retains its dictionary validity.\n",
    "\n",
    "Lemmatization is especially beneficial in tasks that require precise language understanding, such as:\n",
    "- **Text classification**\n",
    "- **Sentiment analysis**\n",
    "- **Document similarity**\n",
    "- **Question answering**\n",
    "\n",
    "It is widely used in applications that require structured language representation and semantic understanding.\n",
    "\n",
    "---\n",
    "\n",
    "### 4. **Shortcomings of Lemmatization**\n",
    "While lemmatization is a powerful tool in NLP, it does have its drawbacks:\n",
    "\n",
    "- **Slower Process**: Lemmatization can be slower than stemming because it requires more complex rules and lookups in lexical databases like WordNet.\n",
    "  \n",
    "- **Complexity**: The need to analyze the word's context (part of speech) makes lemmatization more computationally complex than other techniques. Inaccuracies in part-of-speech tagging can lead to incorrect lemmatization.\n",
    "  \n",
    "- **Resource-Dependent**: Lemmatization requires access to external resources like dictionaries or lexicons, which may not be available for all languages or specialized domains.\n",
    "\n",
    "- **Ambiguity**: Words with multiple meanings (e.g., \"bark\" as a tree bark or dog bark) can sometimes be difficult to lemmatize correctly without additional context, leading to misinterpretation.\n",
    "\n",
    "Despite these shortcomings, lemmatization remains one of the most reliable methods for reducing words to their root form, particularly in tasks that demand high precision.\n",
    "\n",
    "---"
   ]
  }
 ],
 "metadata": {
  "kernelspec": {
   "display_name": "Python 3",
   "language": "python",
   "name": "python3"
  },
  "language_info": {
   "codemirror_mode": {
    "name": "ipython",
    "version": 3
   },
   "file_extension": ".py",
   "mimetype": "text/x-python",
   "name": "python",
   "nbconvert_exporter": "python",
   "pygments_lexer": "ipython3",
   "version": "3.11.2"
  }
 },
 "nbformat": 4,
 "nbformat_minor": 2
}
